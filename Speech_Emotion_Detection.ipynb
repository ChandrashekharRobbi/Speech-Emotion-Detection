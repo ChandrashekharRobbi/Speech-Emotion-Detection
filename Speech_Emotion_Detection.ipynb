{
  "nbformat": 4,
  "nbformat_minor": 0,
  "metadata": {
    "colab": {
      "provenance": [],
      "authorship_tag": "ABX9TyNPZ0a9Jd082QXBEyiK9K8C",
      "include_colab_link": true
    },
    "kernelspec": {
      "name": "python3",
      "display_name": "Python 3"
    },
    "language_info": {
      "name": "python"
    },
    "accelerator": "GPU",
    "gpuClass": "standard"
  },
  "cells": [
    {
      "cell_type": "markdown",
      "metadata": {
        "id": "view-in-github",
        "colab_type": "text"
      },
      "source": [
        "<a href=\"https://colab.research.google.com/github/ChandrashekharRobbi/Speech-Emotion-Detection/blob/main/Speech_Emotion_Detection.ipynb\" target=\"_parent\"><img src=\"https://colab.research.google.com/assets/colab-badge.svg\" alt=\"Open In Colab\"/></a>"
      ]
    },
    {
      "cell_type": "markdown",
      "source": [
        "# Import Necessary LIbraries"
      ],
      "metadata": {
        "id": "Nf5Entn1Nanv"
      }
    },
    {
      "cell_type": "code",
      "source": [
        "import pandas as pd\n",
        "from google.colab import files\n",
        "import numpy as np\n",
        "import os\n",
        "import seaborn as sns\n",
        "import matplotlib.pyplot as plt\n",
        "import librosa\n",
        "import librosa.display\n",
        "from IPython.display import Audio\n",
        "import warnings\n",
        "warnings.filterwarnings('ignore')"
      ],
      "metadata": {
        "id": "yxLrOLobNdw_"
      },
      "execution_count": 32,
      "outputs": []
    },
    {
      "cell_type": "code",
      "execution_count": 20,
      "metadata": {
        "colab": {
          "base_uri": "https://localhost:8080/",
          "height": 90
        },
        "id": "ob5Hz239YQek",
        "outputId": "5f13304d-d4f7-4330-d881-7b4a8782b79c"
      },
      "outputs": [
        {
          "output_type": "display_data",
          "data": {
            "text/plain": [
              "<IPython.core.display.HTML object>"
            ],
            "text/html": [
              "\n",
              "     <input type=\"file\" id=\"files-868cfb4b-c025-428a-9dc0-05ec9b176a6d\" name=\"files[]\" multiple disabled\n",
              "        style=\"border:none\" />\n",
              "     <output id=\"result-868cfb4b-c025-428a-9dc0-05ec9b176a6d\">\n",
              "      Upload widget is only available when the cell has been executed in the\n",
              "      current browser session. Please rerun this cell to enable.\n",
              "      </output>\n",
              "      <script>// Copyright 2017 Google LLC\n",
              "//\n",
              "// Licensed under the Apache License, Version 2.0 (the \"License\");\n",
              "// you may not use this file except in compliance with the License.\n",
              "// You may obtain a copy of the License at\n",
              "//\n",
              "//      http://www.apache.org/licenses/LICENSE-2.0\n",
              "//\n",
              "// Unless required by applicable law or agreed to in writing, software\n",
              "// distributed under the License is distributed on an \"AS IS\" BASIS,\n",
              "// WITHOUT WARRANTIES OR CONDITIONS OF ANY KIND, either express or implied.\n",
              "// See the License for the specific language governing permissions and\n",
              "// limitations under the License.\n",
              "\n",
              "/**\n",
              " * @fileoverview Helpers for google.colab Python module.\n",
              " */\n",
              "(function(scope) {\n",
              "function span(text, styleAttributes = {}) {\n",
              "  const element = document.createElement('span');\n",
              "  element.textContent = text;\n",
              "  for (const key of Object.keys(styleAttributes)) {\n",
              "    element.style[key] = styleAttributes[key];\n",
              "  }\n",
              "  return element;\n",
              "}\n",
              "\n",
              "// Max number of bytes which will be uploaded at a time.\n",
              "const MAX_PAYLOAD_SIZE = 100 * 1024;\n",
              "\n",
              "function _uploadFiles(inputId, outputId) {\n",
              "  const steps = uploadFilesStep(inputId, outputId);\n",
              "  const outputElement = document.getElementById(outputId);\n",
              "  // Cache steps on the outputElement to make it available for the next call\n",
              "  // to uploadFilesContinue from Python.\n",
              "  outputElement.steps = steps;\n",
              "\n",
              "  return _uploadFilesContinue(outputId);\n",
              "}\n",
              "\n",
              "// This is roughly an async generator (not supported in the browser yet),\n",
              "// where there are multiple asynchronous steps and the Python side is going\n",
              "// to poll for completion of each step.\n",
              "// This uses a Promise to block the python side on completion of each step,\n",
              "// then passes the result of the previous step as the input to the next step.\n",
              "function _uploadFilesContinue(outputId) {\n",
              "  const outputElement = document.getElementById(outputId);\n",
              "  const steps = outputElement.steps;\n",
              "\n",
              "  const next = steps.next(outputElement.lastPromiseValue);\n",
              "  return Promise.resolve(next.value.promise).then((value) => {\n",
              "    // Cache the last promise value to make it available to the next\n",
              "    // step of the generator.\n",
              "    outputElement.lastPromiseValue = value;\n",
              "    return next.value.response;\n",
              "  });\n",
              "}\n",
              "\n",
              "/**\n",
              " * Generator function which is called between each async step of the upload\n",
              " * process.\n",
              " * @param {string} inputId Element ID of the input file picker element.\n",
              " * @param {string} outputId Element ID of the output display.\n",
              " * @return {!Iterable<!Object>} Iterable of next steps.\n",
              " */\n",
              "function* uploadFilesStep(inputId, outputId) {\n",
              "  const inputElement = document.getElementById(inputId);\n",
              "  inputElement.disabled = false;\n",
              "\n",
              "  const outputElement = document.getElementById(outputId);\n",
              "  outputElement.innerHTML = '';\n",
              "\n",
              "  const pickedPromise = new Promise((resolve) => {\n",
              "    inputElement.addEventListener('change', (e) => {\n",
              "      resolve(e.target.files);\n",
              "    });\n",
              "  });\n",
              "\n",
              "  const cancel = document.createElement('button');\n",
              "  inputElement.parentElement.appendChild(cancel);\n",
              "  cancel.textContent = 'Cancel upload';\n",
              "  const cancelPromise = new Promise((resolve) => {\n",
              "    cancel.onclick = () => {\n",
              "      resolve(null);\n",
              "    };\n",
              "  });\n",
              "\n",
              "  // Wait for the user to pick the files.\n",
              "  const files = yield {\n",
              "    promise: Promise.race([pickedPromise, cancelPromise]),\n",
              "    response: {\n",
              "      action: 'starting',\n",
              "    }\n",
              "  };\n",
              "\n",
              "  cancel.remove();\n",
              "\n",
              "  // Disable the input element since further picks are not allowed.\n",
              "  inputElement.disabled = true;\n",
              "\n",
              "  if (!files) {\n",
              "    return {\n",
              "      response: {\n",
              "        action: 'complete',\n",
              "      }\n",
              "    };\n",
              "  }\n",
              "\n",
              "  for (const file of files) {\n",
              "    const li = document.createElement('li');\n",
              "    li.append(span(file.name, {fontWeight: 'bold'}));\n",
              "    li.append(span(\n",
              "        `(${file.type || 'n/a'}) - ${file.size} bytes, ` +\n",
              "        `last modified: ${\n",
              "            file.lastModifiedDate ? file.lastModifiedDate.toLocaleDateString() :\n",
              "                                    'n/a'} - `));\n",
              "    const percent = span('0% done');\n",
              "    li.appendChild(percent);\n",
              "\n",
              "    outputElement.appendChild(li);\n",
              "\n",
              "    const fileDataPromise = new Promise((resolve) => {\n",
              "      const reader = new FileReader();\n",
              "      reader.onload = (e) => {\n",
              "        resolve(e.target.result);\n",
              "      };\n",
              "      reader.readAsArrayBuffer(file);\n",
              "    });\n",
              "    // Wait for the data to be ready.\n",
              "    let fileData = yield {\n",
              "      promise: fileDataPromise,\n",
              "      response: {\n",
              "        action: 'continue',\n",
              "      }\n",
              "    };\n",
              "\n",
              "    // Use a chunked sending to avoid message size limits. See b/62115660.\n",
              "    let position = 0;\n",
              "    do {\n",
              "      const length = Math.min(fileData.byteLength - position, MAX_PAYLOAD_SIZE);\n",
              "      const chunk = new Uint8Array(fileData, position, length);\n",
              "      position += length;\n",
              "\n",
              "      const base64 = btoa(String.fromCharCode.apply(null, chunk));\n",
              "      yield {\n",
              "        response: {\n",
              "          action: 'append',\n",
              "          file: file.name,\n",
              "          data: base64,\n",
              "        },\n",
              "      };\n",
              "\n",
              "      let percentDone = fileData.byteLength === 0 ?\n",
              "          100 :\n",
              "          Math.round((position / fileData.byteLength) * 100);\n",
              "      percent.textContent = `${percentDone}% done`;\n",
              "\n",
              "    } while (position < fileData.byteLength);\n",
              "  }\n",
              "\n",
              "  // All done.\n",
              "  yield {\n",
              "    response: {\n",
              "      action: 'complete',\n",
              "    }\n",
              "  };\n",
              "}\n",
              "\n",
              "scope.google = scope.google || {};\n",
              "scope.google.colab = scope.google.colab || {};\n",
              "scope.google.colab._files = {\n",
              "  _uploadFiles,\n",
              "  _uploadFilesContinue,\n",
              "};\n",
              "})(self);\n",
              "</script> "
            ]
          },
          "metadata": {}
        },
        {
          "output_type": "stream",
          "name": "stdout",
          "text": [
            "Saving kaggle.json to kaggle (1).json\n",
            "mkdir: cannot create directory ‘/root/.kaggle’: File exists\n"
          ]
        }
      ],
      "source": [
        "!pip install -q kaggle\n",
        "files.upload()          # expire any previous token(s) and upload recreated token\n",
        "! mkdir ~/.kaggle\n",
        "! cp kaggle.json ~/.kaggle/\n",
        "! chmod 600 ~/.kaggle/kaggle.json\n"
      ]
    },
    {
      "cell_type": "code",
      "source": [
        "!kaggle datasets download -d ejlok1/toronto-emotional-speech-set-tess"
      ],
      "metadata": {
        "colab": {
          "base_uri": "https://localhost:8080/"
        },
        "id": "qJW2bCOsYR-M",
        "outputId": "b027d665-03e5-4e7f-89ce-b898b1fbec68"
      },
      "execution_count": 21,
      "outputs": [
        {
          "output_type": "stream",
          "name": "stdout",
          "text": [
            "toronto-emotional-speech-set-tess.zip: Skipping, found more recently modified local copy (use --force to force download)\n"
          ]
        }
      ]
    },
    {
      "cell_type": "code",
      "source": [
        "!unzip -q toronto-emotional-speech-set-tess.zip"
      ],
      "metadata": {
        "id": "QsOxc0NcZHg4",
        "colab": {
          "base_uri": "https://localhost:8080/"
        },
        "outputId": "ebdbc00b-e6e5-4c3f-efbb-185f6aa89feb"
      },
      "execution_count": 22,
      "outputs": [
        {
          "output_type": "stream",
          "name": "stdout",
          "text": [
            "replace TESS Toronto emotional speech set data/OAF_Fear/OAF_back_fear.wav? [y]es, [n]o, [A]ll, [N]one, [r]ename: "
          ]
        }
      ]
    },
    {
      "cell_type": "code",
      "source": [
        "paths = []\n",
        "labels = []\n",
        "for dirname, _, filenames in os.walk('/content/TESS Toronto emotional speech set data'):\n",
        "  for filename in filenames:\n",
        "    paths.append(os.path.join(dirname, filename))\n",
        "    label = filename.split('_')[-1]\n",
        "    label = label.split('.')[0]\n",
        "    labels.append(label.lower())\n",
        "print(\"Dataset is loaded\")"
      ],
      "metadata": {
        "id": "f-yAnzTkYV6z",
        "colab": {
          "base_uri": "https://localhost:8080/"
        },
        "outputId": "bd7454c3-4011-4dfc-b5a4-abaa091de736"
      },
      "execution_count": 33,
      "outputs": [
        {
          "output_type": "stream",
          "name": "stdout",
          "text": [
            "Dataset is loaded\n"
          ]
        }
      ]
    },
    {
      "cell_type": "code",
      "source": [
        "paths[:5]"
      ],
      "metadata": {
        "colab": {
          "base_uri": "https://localhost:8080/"
        },
        "id": "Vw8ylDDxZPUy",
        "outputId": "8c18e5bc-c293-41ff-98fa-755785e8fdd4"
      },
      "execution_count": 34,
      "outputs": [
        {
          "output_type": "execute_result",
          "data": {
            "text/plain": [
              "['/content/TESS Toronto emotional speech set data/OAF_disgust/OAF_wash_disgust.wav',\n",
              " '/content/TESS Toronto emotional speech set data/OAF_disgust/OAF_turn_disgust.wav',\n",
              " '/content/TESS Toronto emotional speech set data/OAF_disgust/OAF_rot_disgust.wav',\n",
              " '/content/TESS Toronto emotional speech set data/OAF_disgust/OAF_said_disgust.wav',\n",
              " '/content/TESS Toronto emotional speech set data/OAF_disgust/OAF_fall_disgust.wav']"
            ]
          },
          "metadata": {},
          "execution_count": 34
        }
      ]
    },
    {
      "cell_type": "code",
      "source": [
        "labels[:5]"
      ],
      "metadata": {
        "id": "ZYiy1i65ZRQ5",
        "colab": {
          "base_uri": "https://localhost:8080/"
        },
        "outputId": "82eee91d-d22b-4691-e214-cce3376b8373"
      },
      "execution_count": 35,
      "outputs": [
        {
          "output_type": "execute_result",
          "data": {
            "text/plain": [
              "['disgust', 'disgust', 'disgust', 'disgust', 'disgust']"
            ]
          },
          "metadata": {},
          "execution_count": 35
        }
      ]
    },
    {
      "cell_type": "code",
      "source": [
        "len(paths)"
      ],
      "metadata": {
        "colab": {
          "base_uri": "https://localhost:8080/"
        },
        "id": "akKTa2kdNRzO",
        "outputId": "23759590-6861-442d-bb6a-d20e9758c37c"
      },
      "execution_count": 36,
      "outputs": [
        {
          "output_type": "execute_result",
          "data": {
            "text/plain": [
              "2800"
            ]
          },
          "metadata": {},
          "execution_count": 36
        }
      ]
    },
    {
      "cell_type": "markdown",
      "source": [
        "## Crete a DataFrame"
      ],
      "metadata": {
        "id": "RpVSM2mtNVpO"
      }
    },
    {
      "cell_type": "code",
      "source": [
        "df = pd.DataFrame()\n",
        "df[\"voice\"] = paths\n",
        "df[\"label\"] = labels "
      ],
      "metadata": {
        "id": "tdTZUV7ANZTG"
      },
      "execution_count": 37,
      "outputs": []
    },
    {
      "cell_type": "code",
      "source": [
        "df.head()"
      ],
      "metadata": {
        "colab": {
          "base_uri": "https://localhost:8080/",
          "height": 206
        },
        "id": "W0qAuNrBNs7B",
        "outputId": "eea920e3-beb3-45a5-c421-a4d28f1b4c06"
      },
      "execution_count": 38,
      "outputs": [
        {
          "output_type": "execute_result",
          "data": {
            "text/plain": [
              "                                               voice    label\n",
              "0  /content/TESS Toronto emotional speech set dat...  disgust\n",
              "1  /content/TESS Toronto emotional speech set dat...  disgust\n",
              "2  /content/TESS Toronto emotional speech set dat...  disgust\n",
              "3  /content/TESS Toronto emotional speech set dat...  disgust\n",
              "4  /content/TESS Toronto emotional speech set dat...  disgust"
            ],
            "text/html": [
              "\n",
              "  <div id=\"df-4051b2c6-db98-4c18-a8de-7b30bcf07d11\">\n",
              "    <div class=\"colab-df-container\">\n",
              "      <div>\n",
              "<style scoped>\n",
              "    .dataframe tbody tr th:only-of-type {\n",
              "        vertical-align: middle;\n",
              "    }\n",
              "\n",
              "    .dataframe tbody tr th {\n",
              "        vertical-align: top;\n",
              "    }\n",
              "\n",
              "    .dataframe thead th {\n",
              "        text-align: right;\n",
              "    }\n",
              "</style>\n",
              "<table border=\"1\" class=\"dataframe\">\n",
              "  <thead>\n",
              "    <tr style=\"text-align: right;\">\n",
              "      <th></th>\n",
              "      <th>voice</th>\n",
              "      <th>label</th>\n",
              "    </tr>\n",
              "  </thead>\n",
              "  <tbody>\n",
              "    <tr>\n",
              "      <th>0</th>\n",
              "      <td>/content/TESS Toronto emotional speech set dat...</td>\n",
              "      <td>disgust</td>\n",
              "    </tr>\n",
              "    <tr>\n",
              "      <th>1</th>\n",
              "      <td>/content/TESS Toronto emotional speech set dat...</td>\n",
              "      <td>disgust</td>\n",
              "    </tr>\n",
              "    <tr>\n",
              "      <th>2</th>\n",
              "      <td>/content/TESS Toronto emotional speech set dat...</td>\n",
              "      <td>disgust</td>\n",
              "    </tr>\n",
              "    <tr>\n",
              "      <th>3</th>\n",
              "      <td>/content/TESS Toronto emotional speech set dat...</td>\n",
              "      <td>disgust</td>\n",
              "    </tr>\n",
              "    <tr>\n",
              "      <th>4</th>\n",
              "      <td>/content/TESS Toronto emotional speech set dat...</td>\n",
              "      <td>disgust</td>\n",
              "    </tr>\n",
              "  </tbody>\n",
              "</table>\n",
              "</div>\n",
              "      <button class=\"colab-df-convert\" onclick=\"convertToInteractive('df-4051b2c6-db98-4c18-a8de-7b30bcf07d11')\"\n",
              "              title=\"Convert this dataframe to an interactive table.\"\n",
              "              style=\"display:none;\">\n",
              "        \n",
              "  <svg xmlns=\"http://www.w3.org/2000/svg\" height=\"24px\"viewBox=\"0 0 24 24\"\n",
              "       width=\"24px\">\n",
              "    <path d=\"M0 0h24v24H0V0z\" fill=\"none\"/>\n",
              "    <path d=\"M18.56 5.44l.94 2.06.94-2.06 2.06-.94-2.06-.94-.94-2.06-.94 2.06-2.06.94zm-11 1L8.5 8.5l.94-2.06 2.06-.94-2.06-.94L8.5 2.5l-.94 2.06-2.06.94zm10 10l.94 2.06.94-2.06 2.06-.94-2.06-.94-.94-2.06-.94 2.06-2.06.94z\"/><path d=\"M17.41 7.96l-1.37-1.37c-.4-.4-.92-.59-1.43-.59-.52 0-1.04.2-1.43.59L10.3 9.45l-7.72 7.72c-.78.78-.78 2.05 0 2.83L4 21.41c.39.39.9.59 1.41.59.51 0 1.02-.2 1.41-.59l7.78-7.78 2.81-2.81c.8-.78.8-2.07 0-2.86zM5.41 20L4 18.59l7.72-7.72 1.47 1.35L5.41 20z\"/>\n",
              "  </svg>\n",
              "      </button>\n",
              "      \n",
              "  <style>\n",
              "    .colab-df-container {\n",
              "      display:flex;\n",
              "      flex-wrap:wrap;\n",
              "      gap: 12px;\n",
              "    }\n",
              "\n",
              "    .colab-df-convert {\n",
              "      background-color: #E8F0FE;\n",
              "      border: none;\n",
              "      border-radius: 50%;\n",
              "      cursor: pointer;\n",
              "      display: none;\n",
              "      fill: #1967D2;\n",
              "      height: 32px;\n",
              "      padding: 0 0 0 0;\n",
              "      width: 32px;\n",
              "    }\n",
              "\n",
              "    .colab-df-convert:hover {\n",
              "      background-color: #E2EBFA;\n",
              "      box-shadow: 0px 1px 2px rgba(60, 64, 67, 0.3), 0px 1px 3px 1px rgba(60, 64, 67, 0.15);\n",
              "      fill: #174EA6;\n",
              "    }\n",
              "\n",
              "    [theme=dark] .colab-df-convert {\n",
              "      background-color: #3B4455;\n",
              "      fill: #D2E3FC;\n",
              "    }\n",
              "\n",
              "    [theme=dark] .colab-df-convert:hover {\n",
              "      background-color: #434B5C;\n",
              "      box-shadow: 0px 1px 3px 1px rgba(0, 0, 0, 0.15);\n",
              "      filter: drop-shadow(0px 1px 2px rgba(0, 0, 0, 0.3));\n",
              "      fill: #FFFFFF;\n",
              "    }\n",
              "  </style>\n",
              "\n",
              "      <script>\n",
              "        const buttonEl =\n",
              "          document.querySelector('#df-4051b2c6-db98-4c18-a8de-7b30bcf07d11 button.colab-df-convert');\n",
              "        buttonEl.style.display =\n",
              "          google.colab.kernel.accessAllowed ? 'block' : 'none';\n",
              "\n",
              "        async function convertToInteractive(key) {\n",
              "          const element = document.querySelector('#df-4051b2c6-db98-4c18-a8de-7b30bcf07d11');\n",
              "          const dataTable =\n",
              "            await google.colab.kernel.invokeFunction('convertToInteractive',\n",
              "                                                     [key], {});\n",
              "          if (!dataTable) return;\n",
              "\n",
              "          const docLinkHtml = 'Like what you see? Visit the ' +\n",
              "            '<a target=\"_blank\" href=https://colab.research.google.com/notebooks/data_table.ipynb>data table notebook</a>'\n",
              "            + ' to learn more about interactive tables.';\n",
              "          element.innerHTML = '';\n",
              "          dataTable['output_type'] = 'display_data';\n",
              "          await google.colab.output.renderOutput(dataTable, element);\n",
              "          const docLink = document.createElement('div');\n",
              "          docLink.innerHTML = docLinkHtml;\n",
              "          element.appendChild(docLink);\n",
              "        }\n",
              "      </script>\n",
              "    </div>\n",
              "  </div>\n",
              "  "
            ]
          },
          "metadata": {},
          "execution_count": 38
        }
      ]
    },
    {
      "cell_type": "code",
      "source": [
        "df.tail()"
      ],
      "metadata": {
        "colab": {
          "base_uri": "https://localhost:8080/",
          "height": 206
        },
        "id": "l7RV9kL1NuhR",
        "outputId": "58758da3-871b-4a8c-a200-4b4dd8cdc3ac"
      },
      "execution_count": 39,
      "outputs": [
        {
          "output_type": "execute_result",
          "data": {
            "text/plain": [
              "                                                  voice label\n",
              "2795  /content/TESS Toronto emotional speech set dat...    ps\n",
              "2796  /content/TESS Toronto emotional speech set dat...    ps\n",
              "2797  /content/TESS Toronto emotional speech set dat...    ps\n",
              "2798  /content/TESS Toronto emotional speech set dat...    ps\n",
              "2799  /content/TESS Toronto emotional speech set dat...    ps"
            ],
            "text/html": [
              "\n",
              "  <div id=\"df-d4d38f76-0122-4a0f-95f4-8b4ccb1f6083\">\n",
              "    <div class=\"colab-df-container\">\n",
              "      <div>\n",
              "<style scoped>\n",
              "    .dataframe tbody tr th:only-of-type {\n",
              "        vertical-align: middle;\n",
              "    }\n",
              "\n",
              "    .dataframe tbody tr th {\n",
              "        vertical-align: top;\n",
              "    }\n",
              "\n",
              "    .dataframe thead th {\n",
              "        text-align: right;\n",
              "    }\n",
              "</style>\n",
              "<table border=\"1\" class=\"dataframe\">\n",
              "  <thead>\n",
              "    <tr style=\"text-align: right;\">\n",
              "      <th></th>\n",
              "      <th>voice</th>\n",
              "      <th>label</th>\n",
              "    </tr>\n",
              "  </thead>\n",
              "  <tbody>\n",
              "    <tr>\n",
              "      <th>2795</th>\n",
              "      <td>/content/TESS Toronto emotional speech set dat...</td>\n",
              "      <td>ps</td>\n",
              "    </tr>\n",
              "    <tr>\n",
              "      <th>2796</th>\n",
              "      <td>/content/TESS Toronto emotional speech set dat...</td>\n",
              "      <td>ps</td>\n",
              "    </tr>\n",
              "    <tr>\n",
              "      <th>2797</th>\n",
              "      <td>/content/TESS Toronto emotional speech set dat...</td>\n",
              "      <td>ps</td>\n",
              "    </tr>\n",
              "    <tr>\n",
              "      <th>2798</th>\n",
              "      <td>/content/TESS Toronto emotional speech set dat...</td>\n",
              "      <td>ps</td>\n",
              "    </tr>\n",
              "    <tr>\n",
              "      <th>2799</th>\n",
              "      <td>/content/TESS Toronto emotional speech set dat...</td>\n",
              "      <td>ps</td>\n",
              "    </tr>\n",
              "  </tbody>\n",
              "</table>\n",
              "</div>\n",
              "      <button class=\"colab-df-convert\" onclick=\"convertToInteractive('df-d4d38f76-0122-4a0f-95f4-8b4ccb1f6083')\"\n",
              "              title=\"Convert this dataframe to an interactive table.\"\n",
              "              style=\"display:none;\">\n",
              "        \n",
              "  <svg xmlns=\"http://www.w3.org/2000/svg\" height=\"24px\"viewBox=\"0 0 24 24\"\n",
              "       width=\"24px\">\n",
              "    <path d=\"M0 0h24v24H0V0z\" fill=\"none\"/>\n",
              "    <path d=\"M18.56 5.44l.94 2.06.94-2.06 2.06-.94-2.06-.94-.94-2.06-.94 2.06-2.06.94zm-11 1L8.5 8.5l.94-2.06 2.06-.94-2.06-.94L8.5 2.5l-.94 2.06-2.06.94zm10 10l.94 2.06.94-2.06 2.06-.94-2.06-.94-.94-2.06-.94 2.06-2.06.94z\"/><path d=\"M17.41 7.96l-1.37-1.37c-.4-.4-.92-.59-1.43-.59-.52 0-1.04.2-1.43.59L10.3 9.45l-7.72 7.72c-.78.78-.78 2.05 0 2.83L4 21.41c.39.39.9.59 1.41.59.51 0 1.02-.2 1.41-.59l7.78-7.78 2.81-2.81c.8-.78.8-2.07 0-2.86zM5.41 20L4 18.59l7.72-7.72 1.47 1.35L5.41 20z\"/>\n",
              "  </svg>\n",
              "      </button>\n",
              "      \n",
              "  <style>\n",
              "    .colab-df-container {\n",
              "      display:flex;\n",
              "      flex-wrap:wrap;\n",
              "      gap: 12px;\n",
              "    }\n",
              "\n",
              "    .colab-df-convert {\n",
              "      background-color: #E8F0FE;\n",
              "      border: none;\n",
              "      border-radius: 50%;\n",
              "      cursor: pointer;\n",
              "      display: none;\n",
              "      fill: #1967D2;\n",
              "      height: 32px;\n",
              "      padding: 0 0 0 0;\n",
              "      width: 32px;\n",
              "    }\n",
              "\n",
              "    .colab-df-convert:hover {\n",
              "      background-color: #E2EBFA;\n",
              "      box-shadow: 0px 1px 2px rgba(60, 64, 67, 0.3), 0px 1px 3px 1px rgba(60, 64, 67, 0.15);\n",
              "      fill: #174EA6;\n",
              "    }\n",
              "\n",
              "    [theme=dark] .colab-df-convert {\n",
              "      background-color: #3B4455;\n",
              "      fill: #D2E3FC;\n",
              "    }\n",
              "\n",
              "    [theme=dark] .colab-df-convert:hover {\n",
              "      background-color: #434B5C;\n",
              "      box-shadow: 0px 1px 3px 1px rgba(0, 0, 0, 0.15);\n",
              "      filter: drop-shadow(0px 1px 2px rgba(0, 0, 0, 0.3));\n",
              "      fill: #FFFFFF;\n",
              "    }\n",
              "  </style>\n",
              "\n",
              "      <script>\n",
              "        const buttonEl =\n",
              "          document.querySelector('#df-d4d38f76-0122-4a0f-95f4-8b4ccb1f6083 button.colab-df-convert');\n",
              "        buttonEl.style.display =\n",
              "          google.colab.kernel.accessAllowed ? 'block' : 'none';\n",
              "\n",
              "        async function convertToInteractive(key) {\n",
              "          const element = document.querySelector('#df-d4d38f76-0122-4a0f-95f4-8b4ccb1f6083');\n",
              "          const dataTable =\n",
              "            await google.colab.kernel.invokeFunction('convertToInteractive',\n",
              "                                                     [key], {});\n",
              "          if (!dataTable) return;\n",
              "\n",
              "          const docLinkHtml = 'Like what you see? Visit the ' +\n",
              "            '<a target=\"_blank\" href=https://colab.research.google.com/notebooks/data_table.ipynb>data table notebook</a>'\n",
              "            + ' to learn more about interactive tables.';\n",
              "          element.innerHTML = '';\n",
              "          dataTable['output_type'] = 'display_data';\n",
              "          await google.colab.output.renderOutput(dataTable, element);\n",
              "          const docLink = document.createElement('div');\n",
              "          docLink.innerHTML = docLinkHtml;\n",
              "          element.appendChild(docLink);\n",
              "        }\n",
              "      </script>\n",
              "    </div>\n",
              "  </div>\n",
              "  "
            ]
          },
          "metadata": {},
          "execution_count": 39
        }
      ]
    },
    {
      "cell_type": "code",
      "source": [
        "df[\"label\"].unique()"
      ],
      "metadata": {
        "colab": {
          "base_uri": "https://localhost:8080/"
        },
        "id": "P2JjqcS8NwPi",
        "outputId": "784ea251-2f79-4bc5-e822-84e1dc21bda4"
      },
      "execution_count": 40,
      "outputs": [
        {
          "output_type": "execute_result",
          "data": {
            "text/plain": [
              "array(['disgust', 'happy', 'sad', 'angry', 'fear', 'ps', 'neutral'],\n",
              "      dtype=object)"
            ]
          },
          "metadata": {},
          "execution_count": 40
        }
      ]
    },
    {
      "cell_type": "code",
      "source": [
        "df[\"label\"].value_counts()"
      ],
      "metadata": {
        "colab": {
          "base_uri": "https://localhost:8080/"
        },
        "id": "9tqgHpLuN0Y5",
        "outputId": "d2ba612c-9853-4c01-c42b-85febe442c85"
      },
      "execution_count": 41,
      "outputs": [
        {
          "output_type": "execute_result",
          "data": {
            "text/plain": [
              "disgust    400\n",
              "happy      400\n",
              "sad        400\n",
              "angry      400\n",
              "fear       400\n",
              "ps         400\n",
              "neutral    400\n",
              "Name: label, dtype: int64"
            ]
          },
          "metadata": {},
          "execution_count": 41
        }
      ]
    },
    {
      "cell_type": "markdown",
      "source": [
        "## Visualize the waves of voice"
      ],
      "metadata": {
        "id": "ALPdQzCFOecu"
      }
    },
    {
      "cell_type": "code",
      "source": [
        "# create a function for waveshow\n",
        "def waveshow(data, sr, emotion):\n",
        "  plt.figure(figsize=(8,8))\n",
        "  plt.title(emotion, size=20)\n",
        "  librosa.display.waveshow(data, sr=sr)"
      ],
      "metadata": {
        "id": "GJVq1YEAWVEl"
      },
      "execution_count": 42,
      "outputs": []
    },
    {
      "cell_type": "markdown",
      "source": [
        "### For `fear`"
      ],
      "metadata": {
        "id": "51skaj0ZWy1R"
      }
    },
    {
      "cell_type": "code",
      "source": [
        "emotion = 'fear'\n",
        "path = df[df[\"label\"] == 'fear'][\"voice\"].iloc[0]\n",
        "data, sampling_rate = librosa.load(path)\n",
        "waveshow(data, sampling_rate, emotion)"
      ],
      "metadata": {
        "colab": {
          "base_uri": "https://localhost:8080/",
          "height": 662
        },
        "id": "_i5p_LzUW6Dx",
        "outputId": "f90b3918-263e-41f3-82a3-1e3f87ad1d34"
      },
      "execution_count": 59,
      "outputs": [
        {
          "output_type": "display_data",
          "data": {
            "text/plain": [
              "<Figure size 800x800 with 1 Axes>"
            ],
            "image/png": "[encoded data removed]"
          },
          "metadata": {}
        }
      ]
    },
    {
      "cell_type": "code",
      "source": [
        "# Let's hear `fear` emotion\n",
        "Audio(path)"
      ],
      "metadata": {
        "colab": {
          "base_uri": "https://localhost:8080/",
          "height": 75
        },
        "id": "5R-j5G_lXUQd",
        "outputId": "d2d5549e-e9d9-4177-e555-6ade5bb83c00"
      },
      "execution_count": 60,
      "outputs": [
        {
          "output_type": "execute_result",
          "data": {
            "text/plain": [
              "<IPython.lib.display.Audio object>"
            ],
            "text/html": [
              "\n",
              "                <audio  controls=\"controls\" >\n",
              "                    <source src=\"data:audio/x-wav;base64,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\" type=\"audio/x-wav\" />\n",
              "                    Your browser does not support the audio element.\n",
              "                </audio>\n",
              "              "
            ]
          },
          "metadata": {},
          "execution_count": 60
        }
      ]
    },
    {
      "cell_type": "code",
      "source": [],
      "metadata": {
        "id": "hQexVMaEaWFC"
      },
      "execution_count": null,
      "outputs": []
    }
  ]
}